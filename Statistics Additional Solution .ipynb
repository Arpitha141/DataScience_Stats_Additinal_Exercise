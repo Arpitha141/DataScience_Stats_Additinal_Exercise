{
 "cells": [
  {
   "cell_type": "markdown",
   "metadata": {},
   "source": [
    "## Problem Statement 1:\n",
    "Two-tailed test for difference between two population means\n",
    "Is there evidence to conclude that the number of people travelling from Bangalore to\n",
    "Chennai is different from the number of people travelling from Bangalore to Hosur in a\n",
    "week, given the following:\n",
    "\n",
    "Population 1: Bangalore to Chennai\n",
    "\n",
    "n1 = 1200\n",
    "\n",
    "x1 = 452\n",
    "\n",
    "s1 = 212\n",
    "\n",
    "Population 2: Bangalore to Hosur\n",
    "\n",
    "n2 = 800\n",
    "\n",
    "x2 = 523\n",
    "\n",
    "s2 = 185\n"
   ]
  },
  {
   "cell_type": "markdown",
   "metadata": {},
   "source": [
    "<img src=\"Images/Stats_6_1_1_1.jpg\">\n",
    "<img src=\"Images/Stats_6_1_2_1.jpg\">"
   ]
  },
  {
   "cell_type": "markdown",
   "metadata": {},
   "source": [
    "## Problem Statement 2: \n",
    "    \n",
    "Is there evidence to conclude that the number of people preferring Duracell battery is\n",
    "different from the number of people preferring Energizer battery, given the following:\n",
    "    \n",
    "Population 1: Duracell\n",
    "    \n",
    "n1 = 100\n",
    "\n",
    "x1 = 308\n",
    "\n",
    "s1 = 84\n",
    "\n",
    "Population 2: Energizer\n",
    "    \n",
    "n2 = 100\n",
    "\n",
    "x2 = 254\n",
    "\n",
    "s2 = 67"
   ]
  },
  {
   "cell_type": "markdown",
   "metadata": {},
   "source": [
    "<img src=\"Images/Stats_6_2_1_1.jpg\">\n",
    "<img src=\"Images/Stats_6_2_2_1.jpg\">"
   ]
  },
  {
   "cell_type": "markdown",
   "metadata": {},
   "source": [
    "## Problem Statement 3: \n",
    "\n",
    "Pooled estimate of the population variance\n",
    "Does the data provide sufficient evidence to conclude that average percentage increase\n",
    "in the price of sugar differs when it is sold at two different prices?\n",
    "\n",
    "Population 1: Price of sugar = Rs. 27.50\n",
    "\n",
    "n1 = 14\n",
    "\n",
    "x1 = 0.317%\n",
    "\n",
    "s1 = 0.12%\n",
    "\n",
    "Population 2: Price of sugar = Rs. 20.00\n",
    "\n",
    "n2 = 9\n",
    "\n",
    "x2 = 0.21%\n",
    "\n",
    "s2 = 0.11%\n"
   ]
  },
  {
   "cell_type": "markdown",
   "metadata": {},
   "source": [
    "<img src=\"Images/Stats_6_3_1_1.jpg\"/>\n",
    "<img src=\"Images/Stats_6_3_2_1.jpg\"/>"
   ]
  },
  {
   "cell_type": "markdown",
   "metadata": {},
   "source": [
    "## Problem Statement 4:\n",
    "    \n",
    "The manufacturers of compact disk players want to test whether a small price reduction\n",
    "is enough to increase sales of their product. Is there evidence that the small price\n",
    "reduction is enough to increase sales of compact disk players?\n",
    "\n",
    "Population 1: Before reduction\n",
    "    \n",
    "n1 = 15\n",
    "\n",
    "x1 = Rs. 6598\n",
    "\n",
    "s1 = Rs. 844\n",
    "\n",
    "Population 2: After reduction\n",
    "\n",
    "n2 = 12\n",
    "\n",
    "x2 = RS. 6870\n",
    "\n",
    "s2 = Rs. 669\n",
    "\n"
   ]
  },
  {
   "cell_type": "markdown",
   "metadata": {},
   "source": [
    "<img src=\"Images/Stats_6_4_1_1.jpg\"/>\n",
    "<img src=\"Images/Stats_6_4_2_1.jpg\"/>"
   ]
  },
  {
   "cell_type": "markdown",
   "metadata": {},
   "source": [
    "## Problem Statement 5: \n",
    "    \n",
    "Comparisons of two population proportions when the hypothesized difference is zero\n",
    "Carry out a two-tailed test of the equality of banks’ share of the car loan market in 1980\n",
    "and 1995.\n",
    "\n",
    "Population 1: 1980\n",
    "\n",
    "n1 = 1000\n",
    "\n",
    "x1 = 53\n",
    "\n",
    "p1 = 0.53\n",
    "\n",
    "Population 2: 1985\n",
    "\n",
    "n2 = 100\n",
    "\n",
    "x2 = 43\n",
    "\n",
    "p2= 0.53\n"
   ]
  },
  {
   "cell_type": "markdown",
   "metadata": {},
   "source": [
    "<img src=\"Images/Stats_6_5_1_1.jpg\"/>\n",
    "<img src=\"Images/Stats_6_5_2_1.jpg\"/>"
   ]
  },
  {
   "cell_type": "markdown",
   "metadata": {},
   "source": [
    "## Problem Statement 6: \n",
    "    \n",
    "Carry out a one-tailed test to determine whether the population proportion of traveler’s\n",
    "check buyers who buy at least $2500 in checks when sweepstakes prizes are offered as\n",
    "at least 10% higher than the proportion of such buyers when no sweepstakes are on.\n",
    "\n",
    "Population 1: With sweepstakes\n",
    "    \n",
    "n1 = 300\n",
    "\n",
    "x1 = 120\n",
    "\n",
    "p1 = 0.40\n",
    "\n",
    "Population 2: No sweepstakes\n",
    "    \n",
    "n2 = 700\n",
    "\n",
    "x2 = 140\n",
    "\n",
    "p2= 0.20"
   ]
  },
  {
   "cell_type": "markdown",
   "metadata": {},
   "source": [
    "<img src=\"Images/Stats_6_6_1_1.jpg\"/>\n",
    "<img src=\"Images/Stats_6_6_2_1.jpg\"/>"
   ]
  },
  {
   "cell_type": "markdown",
   "metadata": {},
   "source": [
    "## Problem Statement 7:\n",
    "    \n",
    "A die is thrown 132 times with the following results:\n",
    "    \n",
    "Number turned up: 1, 2, 3, 4, 5, 6\n",
    "    \n",
    "Frequency: 16, 20, 25, 14, 29, 28\n",
    "    \n",
    "Is the die unbiased? Consider the degrees of freedom as n − 1"
   ]
  },
  {
   "cell_type": "markdown",
   "metadata": {},
   "source": [
    "<img src=\"Images/Stats_6_7_1_1.jpg\"/>\n",
    "<img src=\"Images/Stats_6_7_2_1.jpg\"/>"
   ]
  },
  {
   "cell_type": "markdown",
   "metadata": {},
   "source": [
    "## Problem Statement 8: \n",
    "\n",
    "The number of defects in printed circuit boards is hypothesized to follow a Poisson distribution. A random sample of \n",
    "𝒏 = 𝟔𝟎 printed boards has been collected, and the following number of defects observed."
   ]
  },
  {
   "cell_type": "markdown",
   "metadata": {},
   "source": [
    "<img src=\"Images/Stats_ad_8_1_1.jpg\"/>\n",
    "<img src=\"Images/Stats_ad_8_2_1.jpg\"/>"
   ]
  },
  {
   "cell_type": "markdown",
   "metadata": {},
   "source": [
    "## Problem Statement 9: \n",
    "    \n",
    "In a certain town, there are about one million eligible voters. A simple random sample of\n",
    "10,000 eligible voters was chosen to study the relationship between gender and\n",
    "participation in the last election. The results are summarized in the following 2X2 (read\n",
    "two by two) contingency table.\n",
    "                Men Women\n",
    "                \n",
    "          Voted 2792 3591\n",
    "          \n",
    "      Not voted 1486 213\n",
    "      \n",
    "We would want to check whether being a man or a woman (columns) is independent of\n",
    "having voted in the last election (rows). In other words, is “gender and voting independent”?"
   ]
  },
  {
   "cell_type": "markdown",
   "metadata": {},
   "source": [
    "<img src=\"Images/Stats_6_8_1_1.jpg\"/>\n",
    "<img src=\"Images/Stats_6_8_2_1.jpg\"/>"
   ]
  },
  {
   "cell_type": "markdown",
   "metadata": {},
   "source": [
    "## Problem Statement 10: \n",
    "    \n",
    "A sample of 100 voters are asked which of four candidates they would vote for in an\n",
    "election. The number supporting each candidate is given below:\n",
    "    \n",
    "Higgins Reardon White Charlton\n",
    "41 19 24 16\n",
    "Do the data suggest that all candidates are equally popular? [Chi-Square = 14.96, with\n",
    "3 df, p < 0.05].\n"
   ]
  },
  {
   "cell_type": "markdown",
   "metadata": {},
   "source": [
    "<img src=\"Images/Stats_6_9_1.jpg\"/>\n"
   ]
  },
  {
   "cell_type": "markdown",
   "metadata": {},
   "source": [
    "## Problem Statement 11: \n",
    "\n",
    "    Children of three ages are asked to indicate their preference for three photographs of\n",
    "adults. Do the data suggest that there is a significant relationship between age and\n",
    "photograph preference? What is wrong with this study? [Chi-Square = 29.6, with 4 df: p <\n",
    "0.05].\n",
    "Photograph\n",
    "A B C\n",
    "Age of child 5 – 6 years 18 22 20\n",
    "7 – 8 years 2 28 40\n",
    "9 – 10 years 20 10 40"
   ]
  },
  {
   "cell_type": "markdown",
   "metadata": {},
   "source": [
    "<img src=\"Images/Stats_6_10_1_1.jpg\"/>\n",
    "<img src=\"Images/Stats_6_10_2_1.jpg\"/>\n",
    "<img src=\"Images/Stats_6_10_3_1.jpg\"/>"
   ]
  },
  {
   "cell_type": "markdown",
   "metadata": {},
   "source": [
    "## Problem Statement 12: \n",
    "    \n",
    "A study of conformity using the Asch paradigm involved two conditions: one where one\n",
    "confederate supported the true judgement, and another where no confederate gave the\n",
    "correct response.\n",
    "Support No support\n",
    "Conform 18 40\n",
    "Not conform 32 10\n",
    "Is there a significant difference between the \"support\" and \"no support\" conditions in the\n",
    "frequency with which individuals are likely to conform? [Chi-Square = 19.87, with 1 df:\n",
    "p < 0.05].  Apply Yate’s correction.\n"
   ]
  },
  {
   "cell_type": "markdown",
   "metadata": {},
   "source": [
    "<img src=\"Images/Stats_ad_yate_12_1_1.jpg\"/>\n",
    "<img src=\"Images/Stats_ad_yate_12_2_1.jpg\"/>\n"
   ]
  },
  {
   "cell_type": "markdown",
   "metadata": {},
   "source": [
    "## Problem Statement 13 :\n",
    "\n",
    "We want to test whether short people differ with respect to their leadership qualities\n",
    "(Genghis Khan, Adolf Hitler and Napoleon were all stature-deprived, and how many\n",
    "midget MP's are there?) The following table shows the frequencies with which 43 short\n",
    "people and 52 tall people were categorized as \"leaders\", \"followers\" or as \"unclassifiable\".\n",
    "Is there a relationship between height and leadership qualities? [Chi-Square = 10.71, with\n",
    "2 df: p < 0.01]. Height\n",
    "Short Tall\n",
    "Leader 12 32\n",
    "Follower 22 14\n",
    "Unclassifiable 9 6"
   ]
  },
  {
   "cell_type": "markdown",
   "metadata": {},
   "source": [
    "<img src=\"Images/Stats_6_12_1_1.jpg\"/>\n",
    "<img src=\"Images/Stats_6_12_2_1.jpg\"/>"
   ]
  },
  {
   "cell_type": "markdown",
   "metadata": {},
   "source": [
    "## Problem Statement 14: \n",
    "    \n",
    "Each respondent in the Current Population Survey of March 1993 was classified as\n",
    "employed, unemployed, or outside the labor force. The results for men in California age\n",
    "35-44 can be cross-tabulated by marital status, as follows:\n",
    "\n",
    "Married Widowed, divorced\n",
    "or separated\n",
    "Never married\n",
    "Employed 679 103 114\n",
    "Unemployed 63 10 20\n",
    "Not in labor force 42 18 25\n",
    "\n",
    "Men of different marital status seem to have different distributions of labor force status.\n",
    "Or is this just chance variation? (you may assume the table results from a simple random\n",
    "sample.)\n"
   ]
  },
  {
   "cell_type": "markdown",
   "metadata": {},
   "source": [
    "<img src=\"Images/Stats_6_13_1_1.jpg\"/>\n",
    "<img src=\"Images/Stats_6_13_2_1.jpg\"/>"
   ]
  },
  {
   "cell_type": "code",
   "execution_count": null,
   "metadata": {},
   "outputs": [],
   "source": []
  }
 ],
 "metadata": {
  "kernelspec": {
   "display_name": "Python 3",
   "language": "python",
   "name": "python3"
  },
  "language_info": {
   "codemirror_mode": {
    "name": "ipython",
    "version": 3
   },
   "file_extension": ".py",
   "mimetype": "text/x-python",
   "name": "python",
   "nbconvert_exporter": "python",
   "pygments_lexer": "ipython3",
   "version": "3.7.0"
  }
 },
 "nbformat": 4,
 "nbformat_minor": 2
}
